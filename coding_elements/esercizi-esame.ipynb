{
 "cells": [
  {
   "attachments": {},
   "cell_type": "markdown",
   "metadata": {},
   "source": [
    "Dato un array di valori, trovare il valore massimo e il valore minimo."
   ]
  },
  {
   "cell_type": "code",
   "execution_count": 13,
   "metadata": {},
   "outputs": [
    {
     "name": "stdout",
     "output_type": "stream",
     "text": [
      "min = 2\n",
      "max = 100\n"
     ]
    }
   ],
   "source": [
    "l = [7, 10, 25, 2, 3, 28, 100, 78, 90]\n",
    "\n",
    "# trovo il minimo\n",
    "\n",
    "min = l[0] # inizializzo un minimo - va bene qualunque elemento della lista\n",
    "\n",
    "for i in l:\n",
    "    if i < min:\n",
    "        min = i\n",
    "\n",
    "print(f\"min = {min}\")\n",
    "\n",
    "# l'idea è quella di trovare in n passi (il for scorre una volta sola la lista di n elementi) il minimo, \n",
    "# inizializzandone uno, confrontando ogni elemento della lista col minimo inizializzato e, se risulta\n",
    "# inferiore (if), farlo diventare il nuovo minimo fino a che non c'è più un numero più piccolo del minimo trovato\n",
    "\n",
    "# trovo il max\n",
    "\n",
    "max = l[0]\n",
    "\n",
    "for i in l:\n",
    "    if i > max:\n",
    "        max = i\n",
    "\n",
    "print(f\"max = {max}\")\n",
    "\n",
    "# lo stesso discorso vale per il massimo"
   ]
  },
  {
   "attachments": {},
   "cell_type": "markdown",
   "metadata": {},
   "source": [
    "Dato un array di valori, riordinarlo."
   ]
  },
  {
   "cell_type": "code",
   "execution_count": 14,
   "metadata": {},
   "outputs": [
    {
     "name": "stdout",
     "output_type": "stream",
     "text": [
      "[2, 3, 7, 10, 25, 28, 78, 90, 100]\n"
     ]
    }
   ],
   "source": [
    "l = [7, 10, 25, 2, 3, 28, 100, 78, 90]\n",
    " \n",
    "# due metodi: \n",
    "# 1) bubble sort - è di complessità n^2, perché fa n volte n passi;\n",
    "# la complessità, legata all'efficienza, è il numero di passi necessario a compiere l'algoritmo\n",
    "\n",
    "for i in range(len(l)): # i serve solo a ripetere lo scorrimento n volte\n",
    "    for j in range(len(l)-1): # j e i scorrono la posizione, non l'elemento\n",
    "        if l[j] > l[j + 1]:\n",
    "            l[j], l[j + 1] = l[j + 1], l[j] # doppio assegnamento che scambia i valori\n",
    "\n",
    "print(l)"
   ]
  },
  {
   "attachments": {},
   "cell_type": "markdown",
   "metadata": {},
   "source": [
    "Scrivere un programma con cui eseguire il metodo di bisezione."
   ]
  },
  {
   "cell_type": "code",
   "execution_count": 20,
   "metadata": {},
   "outputs": [
    {
     "name": "stdout",
     "output_type": "stream",
     "text": [
      "-1.015625 -0.9375\n"
     ]
    }
   ],
   "source": [
    "def f(x):\n",
    "    y = x**3 + 1\n",
    "    return y\n",
    "\n",
    "a = -5\n",
    "b = 5\n",
    "\n",
    "while (b - a) > 0.1:\n",
    "    if f(b)*f(a) < 0:\n",
    "        c = (b - a)/2 + a\n",
    "    else:\n",
    "        print(\"error\")\n",
    "        break\n",
    "    if f(c)*f(a) < 0:\n",
    "        b = c\n",
    "    else: \n",
    "        a = c\n",
    "\n",
    "print(a, b)"
   ]
  },
  {
   "attachments": {},
   "cell_type": "markdown",
   "metadata": {},
   "source": [
    "Scrivere un programma per eseguire un fattoriale."
   ]
  },
  {
   "cell_type": "code",
   "execution_count": 23,
   "metadata": {},
   "outputs": [
    {
     "name": "stdout",
     "output_type": "stream",
     "text": [
      "6\n"
     ]
    }
   ],
   "source": [
    "def factorial(n):\n",
    "    if n == 1:\n",
    "        r = 1\n",
    "    else:\n",
    "        r = n * factorial(n-1)\n",
    "    return r\n",
    "\n",
    "print(factorial(3))"
   ]
  },
  {
   "attachments": {},
   "cell_type": "markdown",
   "metadata": {},
   "source": [
    "Scrivere un programma per trovare i punti che finiscono dentro una circonferenza."
   ]
  },
  {
   "cell_type": "code",
   "execution_count": 5,
   "metadata": {},
   "outputs": [
    {
     "name": "stdout",
     "output_type": "stream",
     "text": [
      "[(0.03309072947813596, 0.27166689923176424), (0.14819467635236894, 0.0177557337396973), (0.34595081550157036, 0.6821114826583398), (0.5419186768866701, 0.6193348147329644), (0.19971069907886008, 0.4320696289841933), (0.3254423561021298, 0.9295023291516458), (0.24753835889479148, 0.7447249279409349), (0.4564127906900891, 0.6513354254979113)]\n",
      "8\n"
     ]
    }
   ],
   "source": [
    "import numpy as np\n",
    "\n",
    "punti = [] # lista ( in cui andrò a mettere le tuple (a, b) )\n",
    "\n",
    "n = 10\n",
    "\n",
    "for i in range(n):\n",
    "    a = np.random.rand()\n",
    "    b = np.random.rand() \n",
    "    if np.sqrt(a**2 + b**2) < 1:\n",
    "        punti.append((a, b))\n",
    "\n",
    "print(punti)\n",
    "print(len(punti))"
   ]
  },
  {
   "attachments": {},
   "cell_type": "markdown",
   "metadata": {},
   "source": [
    "Calcolare la media e la deviazione standard della media."
   ]
  },
  {
   "cell_type": "code",
   "execution_count": 29,
   "metadata": {},
   "outputs": [
    {
     "name": "stdout",
     "output_type": "stream",
     "text": [
      "2.0\n",
      "0.5773502691896257\n"
     ]
    }
   ],
   "source": [
    "# media\n",
    "\n",
    "x = [1, 2, 3]\n",
    "m = 0\n",
    "\n",
    "for i in range(len(x)):\n",
    "    m += x[i]\n",
    "m /= len(x)\n",
    "\n",
    "s=0\n",
    "\n",
    "for i in range(len(x)):\n",
    "    s += (x[i] - m)**2\n",
    "\n",
    "s = np.sqrt(s / (len(x) * (len(x) -1 )))\n",
    "\n",
    "\n",
    "print(m)\n",
    "print(s)\n"
   ]
  },
  {
   "attachments": {},
   "cell_type": "markdown",
   "metadata": {},
   "source": [
    "Scrivere una somma geometrica."
   ]
  },
  {
   "cell_type": "code",
   "execution_count": 22,
   "metadata": {},
   "outputs": [
    {
     "name": "stdout",
     "output_type": "stream",
     "text": [
      "2535301200456458802993406410751\n"
     ]
    }
   ],
   "source": [
    "N = 100\n",
    "x = 2\n",
    "somma = 0\n",
    "\n",
    "for k in range(N+1):\n",
    "    somma += x**k\n",
    "\n",
    "print(somma)\n"
   ]
  }
 ],
 "metadata": {
  "kernelspec": {
   "display_name": "Python 3",
   "language": "python",
   "name": "python3"
  },
  "language_info": {
   "codemirror_mode": {
    "name": "ipython",
    "version": 3
   },
   "file_extension": ".py",
   "mimetype": "text/x-python",
   "name": "python",
   "nbconvert_exporter": "python",
   "pygments_lexer": "ipython3",
   "version": "3.10.11"
  },
  "orig_nbformat": 4
 },
 "nbformat": 4,
 "nbformat_minor": 2
}
