{
 "cells": [
  {
   "cell_type": "code",
   "execution_count": 2,
   "metadata": {},
   "outputs": [
    {
     "name": "stdout",
     "output_type": "stream",
     "text": [
      "y0 =  -15.857 +/- 3.783\n",
      "v0 =   30.277 +/- 2.812\n",
      " g =    9.870 +/- 0.921\n"
     ]
    },
    {
     "data": {
      "image/png": "[encoded data removed]",
      "text/plain": [
       "<Figure size 300x300 with 1 Axes>"
      ]
     },
     "metadata": {},
     "output_type": "display_data"
    },
    {
     "data": {
      "image/png": "[encoded data removed]",
      "text/plain": [
       "<Figure size 300x300 with 1 Axes>"
      ]
     },
     "metadata": {},
     "output_type": "display_data"
    }
   ],
   "source": [
    "#/usr/bin/env python3\n",
    "# -*- coding: utf-8 -*-\n",
    "\n",
    "# Fittare i dati contenuti nel file \"data.csv\" assumendo che rappresentino\n",
    "# la legge oraria di un grave che si muove verticalmente in prossimità della\n",
    "# superficie terrestre.\n",
    "\n",
    "import numpy as np\n",
    "import matplotlib.pyplot as plt\n",
    "from scipy.optimize import curve_fit\n",
    "\n",
    "# Lo script crea un file \"data.csv\" con i dati da analizzare.\n",
    "mm = np.array([[1.0, 11.0],[1.5, 15.0],[2.0, 26.0],[2.5, 30.0],[3.0, 32.0],[3.5, 28.0],[4.0, 27.0],[4.5, 19.0],[5.0, 13.0]])\n",
    "np.savetxt(\"data.csv\", mm, delimiter=\", \")\n",
    "\n",
    "# Lettura e plot dei dati.\n",
    "\n",
    "data = np.loadtxt(\"data.csv\", delimiter=\",\")\n",
    "tt = data[:,0] #prende solo la prima colonna dai dati\n",
    "yy = data[:,1] #prende solo la seconda colonna dai dati\n",
    "#tutto quello che c'è prima della virgola indica la prima dimensione (le righe), quello che c'è dopo\n",
    "#indica la seconda dimensione (le colonne); i : indicano di prendere tutte le righe\n",
    "\n",
    "fig = plt.figure(figsize=(3.0,3.0))\n",
    "plt.axes([0.2,0.2,0.7,0.7])\n",
    "plt.plot(tt, yy, \"ob\")\n",
    "plt.xlabel(r\"t [s]\")\n",
    "plt.ylabel(r\"y [m]\")\n",
    "plt.xlim([0.0, 6.0])\n",
    "plt.ylim([0.0, 40.0])\n",
    "plt.savefig(\"data.png\")\n",
    "\n",
    "# Definizione del modello teorico.\n",
    "# La prima variabile della funzione è la variabile indipendente,\n",
    "# le altre variabili sono costanti del modello, che verranno trovate dal fit.\n",
    "\n",
    "def grave(t, y0, v0, g):\n",
    "    y = y0 + v0 * t - 0.5 * g * t**2\n",
    "    return y\n",
    "\n",
    "# Fit del modello ai dati.\n",
    "\n",
    "#           y0   v0    g   <-- valori iniziali per l'algoritmo di fit\n",
    "p_guess = (1.0, 1.0, 1.0)\n",
    "\n",
    "ss = np.array([0.1 for t in tt])\n",
    "p_opt, p_cov = curve_fit(grave, tt, yy, p_guess, sigma=ss, method=\"trf\")\n",
    "\n",
    "# Calcolo del modello su un range a piacere della variable indipendente.\n",
    "tt_theo = np.linspace(0.0, 6.0, 101)\n",
    "\n",
    "yy_theo = []\n",
    "for t in tt_theo:\n",
    "    # y = grave(t, p_opt[0], p_opt[1], p_opt[2], p_opt[3])\n",
    "    y = grave(t, *p_opt)  # forma compatta della riga precedente\n",
    "    yy_theo.append(y)\n",
    "yy_theo = np.array(yy_theo)\n",
    "\n",
    "# Il ciclo precedente si può fare in modo compatto con una list comprehension.\n",
    "# yy_theo = np.array([grave(t, *p_opt) for t in tt_theo])\n",
    "\n",
    "fig = plt.figure(figsize=(3.0,3.0))\n",
    "plt.axes([0.2,0.2,0.7,0.7])\n",
    "plt.plot(tt, yy, \"ob\")\n",
    "plt.plot(tt_theo, yy_theo, \"-r\")\n",
    "plt.xlabel(r\"t [s]\")\n",
    "plt.ylabel(r\"y [m]\")\n",
    "plt.xlim([0.0, 6.0])\n",
    "plt.ylim([0.0, 40.0])\n",
    "plt.savefig(\"data_fit.png\")\n",
    "\n",
    "# Stampa dei parametri di fit con l'errore stimato dalla matrice di covarianza:\n",
    "# Nota: il programma stampa più cifre di quelle significative.\n",
    "param = (\"y0\", \"v0\", \"g\")\n",
    "errs = np.sqrt(np.diag(p_cov))\n",
    "for p,v,e in zip(param, p_opt, errs):\n",
    "    print(\"%2s = %8.3f +/- %5.3f\" % (p, v, e))\n",
    "\n"
   ]
  },
  {
   "attachments": {},
   "cell_type": "markdown",
   "metadata": {},
   "source": [
    "RIASSUNTO:\n",
    "\n",
    "In questa lezione si sono visti i principi di fit e funzioni interessanti; per quanto riguarda funzioni particolari di Python, cose interessanti sono:\n",
    "\n",
    "1. quella di inserire i dati in un array, a partire da quello definire e salvare un file contenente i dati che può essere richiamo a scelta come loadtxt:\n",
    "\n",
    "\"nome lista\" = np.array([])\n",
    "np.savetxt(\"data.csv\", \"nome lista\", delimiter=\", \")\n",
    "\n",
    "da cui poi è possibile richiamare la lista con np.loadtxt\n",
    "\n",
    "2. il modo in cui è possibile leggere le liste: in una parentesi quadra legata ad un txt, il numero prima della virgola indica la prima dimensione (righe) e dopo la virgola la seconda dimensione (colonne); l'uso dei due punti : indica di considerare tutte le righe o colonne, lo 0 indica la prima riga o colonna, e così via.\n",
    "\n",
    "3. Quando si esegue il plot di una figura l'ordine dei comandi è il seguente:\n",
    "fig = plt.figure(figsize=(3.0,3.0))\n",
    "plt.axes([0.2,0.2,0.7,0.7])\n",
    "plt.plot(\"quello che sta sulla x\", \"quello che sta sulla y\", \"ob\")\n",
    "plt.xlabel(\"x [s]\")\n",
    "plt.ylabel(\"y [m]\")\n",
    "plt.xlim([0.0, 6.0])\n",
    "plt.ylim([0.0, 40.0])\n",
    "plt.savefig(\"nome dell'immagine.png\")\n",
    "\n",
    "4. list comprehension: è un modo di esprimere una lista in maniera sintetica dichiarando come dev'essere anzichè come un for\n",
    "\n",
    "Per quanto riguarda i principi di fit, le cose da ricordare sono:\n",
    "\n",
    "1. i valori di p_guess (p0), sono importantissimi da assegnare al fit in modo da farlo convergere;\n",
    "2. p_opt e p_cov sono restituiti da curve_fit(funzione definita, x, y, p_guess, sigma=ss, method=\"trf\" (facoltativo))\n"
   ]
  }
 ],
 "metadata": {
  "kernelspec": {
   "display_name": "Python 3",
   "language": "python",
   "name": "python3"
  },
  "language_info": {
   "codemirror_mode": {
    "name": "ipython",
    "version": 3
   },
   "file_extension": ".py",
   "mimetype": "text/x-python",
   "name": "python",
   "nbconvert_exporter": "python",
   "pygments_lexer": "ipython3",
   "version": "3.10.11"
  },
  "orig_nbformat": 4
 },
 "nbformat": 4,
 "nbformat_minor": 2
}
